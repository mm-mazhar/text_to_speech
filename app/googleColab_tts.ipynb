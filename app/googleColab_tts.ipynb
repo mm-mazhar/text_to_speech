{
  "cells": [
    {
      "cell_type": "code",
      "execution_count": 2,
      "metadata": {
        "id": "vnRuN5arRfZH"
      },
      "outputs": [],
      "source": [
        "# ----------------------\n",
        "# INSTRUCTIONS FOR COLOAB\n",
        "# ----------------------\n",
        "\n",
        "# upload ipynb file\n",
        "# upload all files in configs folder\n",
        "# create output folder\n",
        "# upload excel file and change the path in the code below"
      ]
    },
    {
      "cell_type": "code",
      "execution_count": 3,
      "metadata": {
        "colab": {
          "base_uri": "https://localhost:8080/"
        },
        "id": "G6vXtNyoRhCS",
        "outputId": "e686773b-e432-4f33-99a1-f8060eff2db4"
      },
      "outputs": [
        {
          "name": "stdout",
          "output_type": "stream",
          "text": [
            "Tue Oct 17 15:36:23 2023       \n",
            "+-----------------------------------------------------------------------------+\n",
            "| NVIDIA-SMI 525.105.17   Driver Version: 525.105.17   CUDA Version: 12.0     |\n",
            "|-------------------------------+----------------------+----------------------+\n",
            "| GPU  Name        Persistence-M| Bus-Id        Disp.A | Volatile Uncorr. ECC |\n",
            "| Fan  Temp  Perf  Pwr:Usage/Cap|         Memory-Usage | GPU-Util  Compute M. |\n",
            "|                               |                      |               MIG M. |\n",
            "|===============================+======================+======================|\n",
            "|   0  Tesla T4            Off  | 00000000:00:04.0 Off |                    0 |\n",
            "| N/A   53C    P8    10W /  70W |      0MiB / 15360MiB |      0%      Default |\n",
            "|                               |                      |                  N/A |\n",
            "+-------------------------------+----------------------+----------------------+\n",
            "                                                                               \n",
            "+-----------------------------------------------------------------------------+\n",
            "| Processes:                                                                  |\n",
            "|  GPU   GI   CI        PID   Type   Process name                  GPU Memory |\n",
            "|        ID   ID                                                   Usage      |\n",
            "|=============================================================================|\n",
            "|  No running processes found                                                 |\n",
            "+-----------------------------------------------------------------------------+\n"
          ]
        }
      ],
      "source": [
        "!nvidia-smi"
      ]
    },
    {
      "cell_type": "code",
      "execution_count": 31,
      "metadata": {
        "id": "9SmrKFv1RfZO"
      },
      "outputs": [],
      "source": [
        "#!pip install TTS pandas==2.1.1 openpyxl==3.1.2\n",
        "#!pip install numpy==1.24"
      ]
    },
    {
      "cell_type": "code",
      "execution_count": 26,
      "metadata": {
        "id": "He-A4pEDRfZP"
      },
      "outputs": [],
      "source": [
        "# MODEL CONFIG\n",
        "\n",
        "# !wget https://github.com/coqui-ai/TTS/releases/download/speaker_encoder_model/config_se.json\n",
        "# !wget https://github.com/coqui-ai/TTS/releases/download/speaker_encoder_model/model_se.pth.tar\n",
        "# !wget https://github.com/coqui-ai/TTS/raw/speaker_encoder_model/tests/data/ljspeech/wavs/LJ001-0001.wav"
      ]
    },
    {
      "cell_type": "code",
      "execution_count": 14,
      "metadata": {
        "colab": {
          "base_uri": "https://localhost:8080/"
        },
        "id": "Sjsr_Om8TgM4",
        "outputId": "c52d2446-058e-455f-fadc-382ff9a0cd62"
      },
      "outputs": [
        {
          "name": "stdout",
          "output_type": "stream",
          "text": [
            "total 44004\n",
            "drwxr-xr-x 1 root root     4096 Oct 17 15:42 \u001b[0m\u001b[01;34m.\u001b[0m/\n",
            "drwxr-xr-x 1 root root     4096 Oct 17 15:33 \u001b[01;34m..\u001b[0m/\n",
            "drwxr-xr-x 4 root root     4096 Oct 13 13:21 \u001b[01;34m.config\u001b[0m/\n",
            "-rw-r--r-- 1 root root     3548 May 30  2022 config_se.json\n",
            "-rw-r--r-- 1 root root   425830 Oct 17 15:42 LJ001-0001.wav\n",
            "-rw-r--r-- 1 root root 44610930 May 30  2022 model_se.pth.tar\n",
            "drwxr-xr-x 1 root root     4096 Oct 13 13:22 \u001b[01;34msample_data\u001b[0m/\n"
          ]
        }
      ],
      "source": [
        "%ls -la"
      ]
    },
    {
      "cell_type": "code",
      "execution_count": 15,
      "metadata": {
        "colab": {
          "base_uri": "https://localhost:8080/",
          "height": 36
        },
        "id": "1Le4LoiETnNk",
        "outputId": "d9b65c72-dc1b-480a-da4a-fd11adb4d215"
      },
      "outputs": [
        {
          "data": {
            "application/vnd.google.colaboratory.intrinsic+json": {
              "type": "string"
            },
            "text/plain": [
              "'/content'"
            ]
          },
          "execution_count": 15,
          "metadata": {},
          "output_type": "execute_result"
        }
      ],
      "source": [
        "%pwd"
      ]
    },
    {
      "cell_type": "code",
      "execution_count": 16,
      "metadata": {
        "id": "ar_n8COARfZQ"
      },
      "outputs": [],
      "source": [
        "import os\n",
        "import shutil\n",
        "import pandas as pd\n",
        "from tqdm import tqdm\n"
      ]
    },
    {
      "cell_type": "code",
      "execution_count": 35,
      "metadata": {
        "id": "_8JRhrCDRfZQ"
      },
      "outputs": [],
      "source": [
        "# MODEL SETTINGS\n",
        "encoderPath = \"model_se.pth.tar\"\n",
        "encoderConfig = \"config_se.json\"\n",
        "selectedModel = \"tts_models/en/ljspeech/tacotron2-DDC_ph\"\n",
        "speakerWav = \"LJ001-0001.wav\"\n",
        "# EXCEL FILE SETTINGS\n",
        "col_name_1 = \"Body\"\n",
        "col_name_2 = \"Title2\"\n",
        "file_path_excel = \"./Riddles.xlsx\"\n",
        "# OUTPUT SETTINGS\n",
        "output_folder_name = \"./output\"\n",
        "zip_file_name = \"output\""
      ]
    },
    {
      "cell_type": "code",
      "execution_count": 21,
      "metadata": {
        "colab": {
          "base_uri": "https://localhost:8080/"
        },
        "id": "kh6kNGh4RfZR",
        "outputId": "1456cd9e-ad71-46a8-90b2-ae5d46797004"
      },
      "outputs": [
        {
          "name": "stdout",
          "output_type": "stream",
          "text": [
            "The folder ./output was created.\n"
          ]
        }
      ],
      "source": [
        "if not os.path.exists(output_folder_name):\n",
        "    os.makedirs(output_folder_name)\n",
        "    print(f\"The folder {output_folder_name} was created.\")\n",
        "else:\n",
        "    print(f\"The folder {output_folder_name} already exists.\")"
      ]
    },
    {
      "cell_type": "code",
      "execution_count": 22,
      "metadata": {
        "id": "i8qeQ5YhRfZT"
      },
      "outputs": [],
      "source": [
        "# Read Excel file into a Pandas DataFrame\n",
        "df = pd.read_excel(file_path_excel)"
      ]
    },
    {
      "cell_type": "code",
      "execution_count": 23,
      "metadata": {
        "colab": {
          "base_uri": "https://localhost:8080/",
          "height": 147
        },
        "id": "HGfWtix7RfZU",
        "outputId": "e85b8d38-7286-455c-88ac-18e0e247a9ef"
      },
      "outputs": [
        {
          "data": {
            "text/html": [
              "\n",
              "  <div id=\"df-66aea2e2-97e2-416a-b9df-9e1d666d25ca\" class=\"colab-df-container\">\n",
              "    <div>\n",
              "<style scoped>\n",
              "    .dataframe tbody tr th:only-of-type {\n",
              "        vertical-align: middle;\n",
              "    }\n",
              "\n",
              "    .dataframe tbody tr th {\n",
              "        vertical-align: top;\n",
              "    }\n",
              "\n",
              "    .dataframe thead th {\n",
              "        text-align: right;\n",
              "    }\n",
              "</style>\n",
              "<table border=\"1\" class=\"dataframe\">\n",
              "  <thead>\n",
              "    <tr style=\"text-align: right;\">\n",
              "      <th></th>\n",
              "      <th>Title</th>\n",
              "      <th>Title2</th>\n",
              "      <th>Hook</th>\n",
              "      <th>Body</th>\n",
              "      <th>Option 1</th>\n",
              "      <th>Option 2</th>\n",
              "      <th>Option 3</th>\n",
              "      <th>Answer</th>\n",
              "    </tr>\n",
              "  </thead>\n",
              "  <tbody>\n",
              "    <tr>\n",
              "      <th>0</th>\n",
              "      <td>Riddle 1</td>\n",
              "      <td>Riddle_1</td>\n",
              "      <td>What has keys but can't open locks?</td>\n",
              "      <td>I have the alphabet at my fingertips, but I'm ...</td>\n",
              "      <td>A Computer</td>\n",
              "      <td>A Typewriter</td>\n",
              "      <td>A Calculator</td>\n",
              "      <td>A Computer</td>\n",
              "    </tr>\n",
              "    <tr>\n",
              "      <th>1</th>\n",
              "      <td>Riddle 2</td>\n",
              "      <td>Riddle_2</td>\n",
              "      <td>I have a heart that doesn't beat. What am I?</td>\n",
              "      <td>People sit on me, but I'm not a chair. You can...</td>\n",
              "      <td>A Sofa</td>\n",
              "      <td>A Bed</td>\n",
              "      <td>A Table</td>\n",
              "      <td>A Sofa</td>\n",
              "    </tr>\n",
              "  </tbody>\n",
              "</table>\n",
              "</div>\n",
              "    <div class=\"colab-df-buttons\">\n",
              "\n",
              "  <div class=\"colab-df-container\">\n",
              "    <button class=\"colab-df-convert\" onclick=\"convertToInteractive('df-66aea2e2-97e2-416a-b9df-9e1d666d25ca')\"\n",
              "            title=\"Convert this dataframe to an interactive table.\"\n",
              "            style=\"display:none;\">\n",
              "\n",
              "  <svg xmlns=\"http://www.w3.org/2000/svg\" height=\"24px\" viewBox=\"0 -960 960 960\">\n",
              "    <path d=\"M120-120v-720h720v720H120Zm60-500h600v-160H180v160Zm220 220h160v-160H400v160Zm0 220h160v-160H400v160ZM180-400h160v-160H180v160Zm440 0h160v-160H620v160ZM180-180h160v-160H180v160Zm440 0h160v-160H620v160Z\"/>\n",
              "  </svg>\n",
              "    </button>\n",
              "\n",
              "  <style>\n",
              "    .colab-df-container {\n",
              "      display:flex;\n",
              "      gap: 12px;\n",
              "    }\n",
              "\n",
              "    .colab-df-convert {\n",
              "      background-color: #E8F0FE;\n",
              "      border: none;\n",
              "      border-radius: 50%;\n",
              "      cursor: pointer;\n",
              "      display: none;\n",
              "      fill: #1967D2;\n",
              "      height: 32px;\n",
              "      padding: 0 0 0 0;\n",
              "      width: 32px;\n",
              "    }\n",
              "\n",
              "    .colab-df-convert:hover {\n",
              "      background-color: #E2EBFA;\n",
              "      box-shadow: 0px 1px 2px rgba(60, 64, 67, 0.3), 0px 1px 3px 1px rgba(60, 64, 67, 0.15);\n",
              "      fill: #174EA6;\n",
              "    }\n",
              "\n",
              "    .colab-df-buttons div {\n",
              "      margin-bottom: 4px;\n",
              "    }\n",
              "\n",
              "    [theme=dark] .colab-df-convert {\n",
              "      background-color: #3B4455;\n",
              "      fill: #D2E3FC;\n",
              "    }\n",
              "\n",
              "    [theme=dark] .colab-df-convert:hover {\n",
              "      background-color: #434B5C;\n",
              "      box-shadow: 0px 1px 3px 1px rgba(0, 0, 0, 0.15);\n",
              "      filter: drop-shadow(0px 1px 2px rgba(0, 0, 0, 0.3));\n",
              "      fill: #FFFFFF;\n",
              "    }\n",
              "  </style>\n",
              "\n",
              "    <script>\n",
              "      const buttonEl =\n",
              "        document.querySelector('#df-66aea2e2-97e2-416a-b9df-9e1d666d25ca button.colab-df-convert');\n",
              "      buttonEl.style.display =\n",
              "        google.colab.kernel.accessAllowed ? 'block' : 'none';\n",
              "\n",
              "      async function convertToInteractive(key) {\n",
              "        const element = document.querySelector('#df-66aea2e2-97e2-416a-b9df-9e1d666d25ca');\n",
              "        const dataTable =\n",
              "          await google.colab.kernel.invokeFunction('convertToInteractive',\n",
              "                                                    [key], {});\n",
              "        if (!dataTable) return;\n",
              "\n",
              "        const docLinkHtml = 'Like what you see? Visit the ' +\n",
              "          '<a target=\"_blank\" href=https://colab.research.google.com/notebooks/data_table.ipynb>data table notebook</a>'\n",
              "          + ' to learn more about interactive tables.';\n",
              "        element.innerHTML = '';\n",
              "        dataTable['output_type'] = 'display_data';\n",
              "        await google.colab.output.renderOutput(dataTable, element);\n",
              "        const docLink = document.createElement('div');\n",
              "        docLink.innerHTML = docLinkHtml;\n",
              "        element.appendChild(docLink);\n",
              "      }\n",
              "    </script>\n",
              "  </div>\n",
              "\n",
              "\n",
              "<div id=\"df-2e7cd4a2-d3e8-412e-a2ed-75cef4707aa7\">\n",
              "  <button class=\"colab-df-quickchart\" onclick=\"quickchart('df-2e7cd4a2-d3e8-412e-a2ed-75cef4707aa7')\"\n",
              "            title=\"Suggest charts.\"\n",
              "            style=\"display:none;\">\n",
              "\n",
              "<svg xmlns=\"http://www.w3.org/2000/svg\" height=\"24px\"viewBox=\"0 0 24 24\"\n",
              "     width=\"24px\">\n",
              "    <g>\n",
              "        <path d=\"M19 3H5c-1.1 0-2 .9-2 2v14c0 1.1.9 2 2 2h14c1.1 0 2-.9 2-2V5c0-1.1-.9-2-2-2zM9 17H7v-7h2v7zm4 0h-2V7h2v10zm4 0h-2v-4h2v4z\"/>\n",
              "    </g>\n",
              "</svg>\n",
              "  </button>\n",
              "\n",
              "<style>\n",
              "  .colab-df-quickchart {\n",
              "      --bg-color: #E8F0FE;\n",
              "      --fill-color: #1967D2;\n",
              "      --hover-bg-color: #E2EBFA;\n",
              "      --hover-fill-color: #174EA6;\n",
              "      --disabled-fill-color: #AAA;\n",
              "      --disabled-bg-color: #DDD;\n",
              "  }\n",
              "\n",
              "  [theme=dark] .colab-df-quickchart {\n",
              "      --bg-color: #3B4455;\n",
              "      --fill-color: #D2E3FC;\n",
              "      --hover-bg-color: #434B5C;\n",
              "      --hover-fill-color: #FFFFFF;\n",
              "      --disabled-bg-color: #3B4455;\n",
              "      --disabled-fill-color: #666;\n",
              "  }\n",
              "\n",
              "  .colab-df-quickchart {\n",
              "    background-color: var(--bg-color);\n",
              "    border: none;\n",
              "    border-radius: 50%;\n",
              "    cursor: pointer;\n",
              "    display: none;\n",
              "    fill: var(--fill-color);\n",
              "    height: 32px;\n",
              "    padding: 0;\n",
              "    width: 32px;\n",
              "  }\n",
              "\n",
              "  .colab-df-quickchart:hover {\n",
              "    background-color: var(--hover-bg-color);\n",
              "    box-shadow: 0 1px 2px rgba(60, 64, 67, 0.3), 0 1px 3px 1px rgba(60, 64, 67, 0.15);\n",
              "    fill: var(--button-hover-fill-color);\n",
              "  }\n",
              "\n",
              "  .colab-df-quickchart-complete:disabled,\n",
              "  .colab-df-quickchart-complete:disabled:hover {\n",
              "    background-color: var(--disabled-bg-color);\n",
              "    fill: var(--disabled-fill-color);\n",
              "    box-shadow: none;\n",
              "  }\n",
              "\n",
              "  .colab-df-spinner {\n",
              "    border: 2px solid var(--fill-color);\n",
              "    border-color: transparent;\n",
              "    border-bottom-color: var(--fill-color);\n",
              "    animation:\n",
              "      spin 1s steps(1) infinite;\n",
              "  }\n",
              "\n",
              "  @keyframes spin {\n",
              "    0% {\n",
              "      border-color: transparent;\n",
              "      border-bottom-color: var(--fill-color);\n",
              "      border-left-color: var(--fill-color);\n",
              "    }\n",
              "    20% {\n",
              "      border-color: transparent;\n",
              "      border-left-color: var(--fill-color);\n",
              "      border-top-color: var(--fill-color);\n",
              "    }\n",
              "    30% {\n",
              "      border-color: transparent;\n",
              "      border-left-color: var(--fill-color);\n",
              "      border-top-color: var(--fill-color);\n",
              "      border-right-color: var(--fill-color);\n",
              "    }\n",
              "    40% {\n",
              "      border-color: transparent;\n",
              "      border-right-color: var(--fill-color);\n",
              "      border-top-color: var(--fill-color);\n",
              "    }\n",
              "    60% {\n",
              "      border-color: transparent;\n",
              "      border-right-color: var(--fill-color);\n",
              "    }\n",
              "    80% {\n",
              "      border-color: transparent;\n",
              "      border-right-color: var(--fill-color);\n",
              "      border-bottom-color: var(--fill-color);\n",
              "    }\n",
              "    90% {\n",
              "      border-color: transparent;\n",
              "      border-bottom-color: var(--fill-color);\n",
              "    }\n",
              "  }\n",
              "</style>\n",
              "\n",
              "  <script>\n",
              "    async function quickchart(key) {\n",
              "      const quickchartButtonEl =\n",
              "        document.querySelector('#' + key + ' button');\n",
              "      quickchartButtonEl.disabled = true;  // To prevent multiple clicks.\n",
              "      quickchartButtonEl.classList.add('colab-df-spinner');\n",
              "      try {\n",
              "        const charts = await google.colab.kernel.invokeFunction(\n",
              "            'suggestCharts', [key], {});\n",
              "      } catch (error) {\n",
              "        console.error('Error during call to suggestCharts:', error);\n",
              "      }\n",
              "      quickchartButtonEl.classList.remove('colab-df-spinner');\n",
              "      quickchartButtonEl.classList.add('colab-df-quickchart-complete');\n",
              "    }\n",
              "    (() => {\n",
              "      let quickchartButtonEl =\n",
              "        document.querySelector('#df-2e7cd4a2-d3e8-412e-a2ed-75cef4707aa7 button');\n",
              "      quickchartButtonEl.style.display =\n",
              "        google.colab.kernel.accessAllowed ? 'block' : 'none';\n",
              "    })();\n",
              "  </script>\n",
              "</div>\n",
              "    </div>\n",
              "  </div>\n"
            ],
            "text/plain": [
              "      Title    Title2                                          Hook  \\\n",
              "0  Riddle 1  Riddle_1           What has keys but can't open locks?   \n",
              "1  Riddle 2  Riddle_2  I have a heart that doesn't beat. What am I?   \n",
              "\n",
              "                                                Body    Option 1  \\\n",
              "0  I have the alphabet at my fingertips, but I'm ...  A Computer   \n",
              "1  People sit on me, but I'm not a chair. You can...      A Sofa   \n",
              "\n",
              "       Option 2      Option 3      Answer  \n",
              "0  A Typewriter  A Calculator  A Computer  \n",
              "1         A Bed       A Table      A Sofa  "
            ]
          },
          "execution_count": 23,
          "metadata": {},
          "output_type": "execute_result"
        }
      ],
      "source": [
        "df.head(2)"
      ]
    },
    {
      "cell_type": "code",
      "execution_count": 24,
      "metadata": {
        "id": "MJ6xtshJRfZU"
      },
      "outputs": [],
      "source": [
        "start = 0\n",
        "# end = len(df)\n",
        "end = 2"
      ]
    },
    {
      "cell_type": "code",
      "execution_count": 32,
      "metadata": {
        "colab": {
          "base_uri": "https://localhost:8080/"
        },
        "id": "6kVVEAXIRfZV",
        "outputId": "e612e490-4acf-4e01-c782-6d8de8f2aeb7"
      },
      "outputs": [
        {
          "name": "stderr",
          "output_type": "stream",
          "text": [
            "\r  0%|          | 0/2 [00:00<?, ?it/s]"
          ]
        },
        {
          "name": "stdout",
          "output_type": "stream",
          "text": [
            "************************************************************************************************************************\n",
            "OUT PATH FILE NAME: Riddle_1\n",
            "TEXT FROM CSV FILE: I have the alphabet at my fingertips, but I'm not a book. I'm essential for writing code. What am I?\n",
            "EXECUTING COMMAND NOW: !tts --model_name tts_models/multilingual/multi-dataset/xtts_v1 --encoder_path model_se.pth.tar --encoder_config config_se.json --speaker_wav LJ001-0001.wav --text \"I have the alphabet at my fingertips, but I'm not a book. I'm essential for writing code. What am I?\" --out_path ./output/Riddle_1.wav --language_idx \"en\"\n",
            " > You must agree to the terms of service to use this model.\n",
            " | > Please see the terms of service at https://coqui.ai/cpml.txt\n",
            " | > \"I have read, understood and agreed the Terms and Conditions.\" - [y/n]\n",
            " | | > y\n",
            " > Downloading model to /root/.local/share/tts/tts_models--multilingual--multi-dataset--xtts_v1\n",
            "100% 3.09G/3.09G [00:45<00:00, 86.7MiB/s]\n",
            "100% 3.09G/3.09G [00:45<00:00, 67.3MiB/s]\n",
            "100% 4.65k/4.65k [00:00<00:00, 26.3kiB/s]\n",
            "100% 272k/272k [00:00<00:00, 4.37MiB/s]\n",
            " > Model's license - CPML\n",
            " > Check https://coqui.ai/cpml.txt for more info.\n",
            "2023-10-17 15:50:52.253064: W tensorflow/compiler/tf2tensorrt/utils/py_utils.cc:38] TF-TRT Warning: Could not find TensorRT\n",
            " > Using model: xtts\n",
            " > Text: I have the alphabet at my fingertips, but I'm not a book. I'm essential for writing code. What am I?\n",
            " > Text splitted to sentences.\n",
            "[\"I have the alphabet at my fingertips, but I'm not a book.\", \"I'm essential for writing code.\", 'What am I?']\n",
            " > Processing time: 45.51041626930237\n",
            " > Real-time factor: 6.05688483062601\n",
            " > Saving output to ./output/Riddle_1.wav\n"
          ]
        },
        {
          "name": "stderr",
          "output_type": "stream",
          "text": [
            "\r 50%|█████     | 1/2 [02:23<02:23, 143.31s/it]"
          ]
        },
        {
          "name": "stdout",
          "output_type": "stream",
          "text": [
            "************************************************************************************************************************\n",
            "************************************************************************************************************************\n",
            "OUT PATH FILE NAME: Riddle_2\n",
            "TEXT FROM CSV FILE: People sit on me, but I'm not a chair. You can find me in the living room. What am I?\n",
            "EXECUTING COMMAND NOW: !tts --model_name tts_models/multilingual/multi-dataset/xtts_v1 --encoder_path model_se.pth.tar --encoder_config config_se.json --speaker_wav LJ001-0001.wav --text \"People sit on me, but I'm not a chair. You can find me in the living room. What am I?\" --out_path ./output/Riddle_2.wav --language_idx \"en\"\n",
            " > tts_models/multilingual/multi-dataset/xtts_v1 is already downloaded.\n",
            "2023-10-17 15:52:17.427742: W tensorflow/compiler/tf2tensorrt/utils/py_utils.cc:38] TF-TRT Warning: Could not find TensorRT\n",
            " > Using model: xtts\n",
            " > Text: People sit on me, but I'm not a chair. You can find me in the living room. What am I?\n",
            " > Text splitted to sentences.\n",
            "[\"People sit on me, but I'm not a chair.\", 'You can find me in the living room.', 'What am I?']\n",
            " > Processing time: 45.969067096710205\n",
            " > Real-time factor: 5.846896224518113\n",
            " > Saving output to ./output/Riddle_2.wav\n"
          ]
        },
        {
          "name": "stderr",
          "output_type": "stream",
          "text": [
            "100%|██████████| 2/2 [03:51<00:00, 115.58s/it]"
          ]
        },
        {
          "name": "stdout",
          "output_type": "stream",
          "text": [
            "************************************************************************************************************************\n"
          ]
        },
        {
          "name": "stderr",
          "output_type": "stream",
          "text": [
            "\n"
          ]
        }
      ],
      "source": [
        "# Print the first 5 rows of the DataFrame\n",
        "for i in tqdm(range(start, end)):\n",
        "    text_from_csv = df[col_name_1][i]\n",
        "    out_path_file_name = df[col_name_2][start:end][i]\n",
        "\n",
        "    print(\"*\"*120)\n",
        "    print(f\"OUT PATH FILE NAME: {out_path_file_name}\")\n",
        "    # print(\"*\"*120)\n",
        "    # print(\"*\"*120)\n",
        "    print(f\"TEXT FROM CSV FILE: {text_from_csv}\")\n",
        "    # print(\"*\"*120)\n",
        "\n",
        "    model_name = selectedModel\n",
        "    encoder_path = encoderPath\n",
        "    encoder_config = encoderConfig\n",
        "    speaker_wav = speakerWav\n",
        "    out_path = f'./output/{out_path_file_name}.wav'\n",
        "    language_idx = '\"en\"'\n",
        "    text = '\"'+text_from_csv+'\"'\n",
        "\n",
        "    # print(f\"EXECUTING COMMAND NOW: !tts --model_name {model_name} --encoder_path {encoder_path} --encoder_config {encoder_config} --speaker_wav {speaker_wav} --text {text} --out_path {out_path} --language_idx {language_idx}\")\n",
        "    # !tts --model_name {model_name} --encoder_path {encoder_path} --encoder_config {encoder_config} --speaker_wav {speaker_wav} --text {text} --out_path {out_path} --language_idx {language_idx}\n",
        "    \n",
        "    print(f\"EXECUTING COMMAND NOW: !tts --text {text} --model_name {model_name} --out_path {out_path}\")\n",
        "    !tts --text {text} --model_name {model_name} --out_path {out_path}\n",
        "    print(\"*\"*120)"
      ]
    },
    {
      "cell_type": "code",
      "execution_count": null,
      "metadata": {
        "id": "wOFqJqkYRfZV"
      },
      "outputs": [],
      "source": [
        "# ----------------------\n",
        "# FOR COLOAB ONLY\n",
        "# ----------------------\n",
        "\n",
        "from google.colab import files\n",
        "\n",
        "# Create a zip file from the folder\n",
        "shutil.make_archive(zip_file_name, 'zip', output_folder_name)\n",
        "if os.path.exists(zip_file_name):\n",
        "    files.download(zip_file_name)\n",
        "\n"
      ]
    },
    {
      "cell_type": "code",
      "execution_count": null,
      "metadata": {
        "id": "gzQ4ITuqYA1F"
      },
      "outputs": [],
      "source": [
        "# HOUSEKEEPING"
      ]
    },
    {
      "cell_type": "code",
      "execution_count": 42,
      "metadata": {
        "colab": {
          "base_uri": "https://localhost:8080/"
        },
        "id": "n7co1bVwWE7w",
        "outputId": "a49645d0-e118-4cf9-e9d5-4c4d95680f05"
      },
      "outputs": [
        {
          "name": "stdout",
          "output_type": "stream",
          "text": [
            "The folder ./output does not exist.\n",
            "The file ./output.zip was deleted.\n"
          ]
        }
      ],
      "source": [
        "import shutil\n",
        "import os\n",
        "\n",
        "output_folder_name = \"./output\"\n",
        "zip_file_name = \"./output\" + \".\" + \"zip\"\n",
        "\n",
        "folder_name = output_folder_name\n",
        "if os.path.exists(folder_name):\n",
        "    shutil.rmtree(folder_name)\n",
        "    print(f\"The folder {folder_name} was deleted.\")\n",
        "else:\n",
        "    print(f\"The folder {folder_name} does not exist.\")\n",
        "\n",
        "\n",
        "file_name = zip_file_name\n",
        "if os.path.exists(file_name):\n",
        "    os.remove(file_name)\n",
        "    print(f\"The file {file_name} was deleted.\")\n",
        "else:\n",
        "    print(f\"The file {file_name} does not exist.\")"
      ]
    }
  ],
  "metadata": {
    "accelerator": "GPU",
    "colab": {
      "gpuType": "T4",
      "provenance": []
    },
    "kernelspec": {
      "display_name": "Python 3",
      "name": "python3"
    },
    "language_info": {
      "codemirror_mode": {
        "name": "ipython",
        "version": 3
      },
      "file_extension": ".py",
      "mimetype": "text/x-python",
      "name": "python",
      "nbconvert_exporter": "python",
      "pygments_lexer": "ipython3",
      "version": "3.11.3"
    }
  },
  "nbformat": 4,
  "nbformat_minor": 0
}
